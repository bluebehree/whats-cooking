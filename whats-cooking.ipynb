{
 "cells": [
  {
   "cell_type": "code",
   "execution_count": 1,
   "metadata": {},
   "outputs": [],
   "source": [
    "import numpy as np\n",
    "import pandas as pd\n",
    "import os\n",
    "import seaborn as sns\n",
    "import matplotlib.pyplot as plt\n",
    "%matplotlib inline"
   ]
  },
  {
   "cell_type": "code",
   "execution_count": 2,
   "metadata": {},
   "outputs": [],
   "source": [
    "DATA_SET = os.path.join(os.getcwd(), 'data-set')"
   ]
  },
  {
   "cell_type": "code",
   "execution_count": 3,
   "metadata": {},
   "outputs": [],
   "source": [
    "train = pd.read_json(os.path.join(DATA_SET, 'train.json'))\n",
    "test = pd.read_json(os.path.join(DATA_SET, 'test.json'))"
   ]
  },
  {
   "cell_type": "markdown",
   "metadata": {},
   "source": [
    "## Data Exploration"
   ]
  },
  {
   "cell_type": "code",
   "execution_count": 4,
   "metadata": {},
   "outputs": [
    {
     "data": {
      "image/png": "[encoded data removed]",
      "text/plain": [
       "<Figure size 720x720 with 1 Axes>"
      ]
     },
     "metadata": {},
     "output_type": "display_data"
    }
   ],
   "source": [
    "sns.set(rc={'figure.figsize':(10, 10)})\n",
    "ax = sns.countplot(y='cuisine', data=train)\n",
    "fig = ax.get_figure()\n",
    "fig.savefig('figures/cuisine-distribution.png')"
   ]
  },
  {
   "cell_type": "code",
   "execution_count": 5,
   "metadata": {},
   "outputs": [
    {
     "data": {
      "text/plain": [
       "italian         7838\n",
       "mexican         6438\n",
       "southern_us     4320\n",
       "indian          3003\n",
       "chinese         2673\n",
       "french          2646\n",
       "cajun_creole    1546\n",
       "thai            1539\n",
       "japanese        1423\n",
       "greek           1175\n",
       "spanish          989\n",
       "korean           830\n",
       "vietnamese       825\n",
       "moroccan         821\n",
       "british          804\n",
       "filipino         755\n",
       "irish            667\n",
       "jamaican         526\n",
       "russian          489\n",
       "brazilian        467\n",
       "Name: cuisine, dtype: int64"
      ]
     },
     "execution_count": 5,
     "metadata": {},
     "output_type": "execute_result"
    }
   ],
   "source": [
    "train['cuisine'].value_counts()"
   ]
  },
  {
   "cell_type": "code",
   "execution_count": 6,
   "metadata": {},
   "outputs": [
    {
     "data": {
      "text/plain": [
       "20"
      ]
     },
     "execution_count": 6,
     "metadata": {},
     "output_type": "execute_result"
    }
   ],
   "source": [
    "len(train['cuisine'].unique())"
   ]
  },
  {
   "cell_type": "markdown",
   "metadata": {
    "collapsed": true
   },
   "source": [
    "## Data Preprocessing"
   ]
  },
  {
   "cell_type": "markdown",
   "metadata": {},
   "source": [
    "#### 1a. Count up the frequency of ingredients"
   ]
  },
  {
   "cell_type": "code",
   "execution_count": 7,
   "metadata": {},
   "outputs": [],
   "source": [
    "from collections import defaultdict"
   ]
  },
  {
   "cell_type": "code",
   "execution_count": 8,
   "metadata": {},
   "outputs": [],
   "source": [
    "def get_ingredient_freq(df, col='ingredients'):\n",
    "    ingredients = defaultdict(int)\n",
    "    for row in df.itertuples():\n",
    "        for ingredient in getattr(row, col):\n",
    "            ingredients[ingredient] += 1\n",
    "    \n",
    "    most_common_ingredients = sorted(ingredients, key=ingredients.get, reverse=True)\n",
    "    ingredient_count = pd.concat([pd.DataFrame(list(ingredients.keys()), columns=[col]), \n",
    "                                  pd.DataFrame(list(ingredients.values()), columns=['count'])], \n",
    "                                 axis=1)\n",
    "    return ingredient_count.sort_values(by=['count'], ascending=False)"
   ]
  },
  {
   "cell_type": "code",
   "execution_count": 9,
   "metadata": {},
   "outputs": [],
   "source": [
    "df = get_ingredient_freq(train)"
   ]
  },
  {
   "cell_type": "code",
   "execution_count": 10,
   "metadata": {},
   "outputs": [
    {
     "data": {
      "text/html": [
       "<div>\n",
       "<style scoped>\n",
       "    .dataframe tbody tr th:only-of-type {\n",
       "        vertical-align: middle;\n",
       "    }\n",
       "\n",
       "    .dataframe tbody tr th {\n",
       "        vertical-align: top;\n",
       "    }\n",
       "\n",
       "    .dataframe thead th {\n",
       "        text-align: right;\n",
       "    }\n",
       "</style>\n",
       "<table border=\"1\" class=\"dataframe\">\n",
       "  <thead>\n",
       "    <tr style=\"text-align: right;\">\n",
       "      <th></th>\n",
       "      <th>ingredients</th>\n",
       "      <th>count</th>\n",
       "    </tr>\n",
       "  </thead>\n",
       "  <tbody>\n",
       "    <tr>\n",
       "      <th>11</th>\n",
       "      <td>salt</td>\n",
       "      <td>18049</td>\n",
       "    </tr>\n",
       "    <tr>\n",
       "      <th>54</th>\n",
       "      <td>olive oil</td>\n",
       "      <td>7972</td>\n",
       "    </tr>\n",
       "    <tr>\n",
       "      <th>35</th>\n",
       "      <td>onions</td>\n",
       "      <td>7972</td>\n",
       "    </tr>\n",
       "    <tr>\n",
       "      <th>29</th>\n",
       "      <td>water</td>\n",
       "      <td>7457</td>\n",
       "    </tr>\n",
       "    <tr>\n",
       "      <th>3</th>\n",
       "      <td>garlic</td>\n",
       "      <td>7380</td>\n",
       "    </tr>\n",
       "    <tr>\n",
       "      <th>47</th>\n",
       "      <td>sugar</td>\n",
       "      <td>6434</td>\n",
       "    </tr>\n",
       "    <tr>\n",
       "      <th>105</th>\n",
       "      <td>garlic cloves</td>\n",
       "      <td>6237</td>\n",
       "    </tr>\n",
       "    <tr>\n",
       "      <th>27</th>\n",
       "      <td>butter</td>\n",
       "      <td>4848</td>\n",
       "    </tr>\n",
       "    <tr>\n",
       "      <th>13</th>\n",
       "      <td>ground black pepper</td>\n",
       "      <td>4785</td>\n",
       "    </tr>\n",
       "    <tr>\n",
       "      <th>115</th>\n",
       "      <td>all-purpose flour</td>\n",
       "      <td>4632</td>\n",
       "    </tr>\n",
       "  </tbody>\n",
       "</table>\n",
       "</div>"
      ],
      "text/plain": [
       "             ingredients  count\n",
       "11                  salt  18049\n",
       "54             olive oil   7972\n",
       "35                onions   7972\n",
       "29                 water   7457\n",
       "3                 garlic   7380\n",
       "47                 sugar   6434\n",
       "105        garlic cloves   6237\n",
       "27                butter   4848\n",
       "13   ground black pepper   4785\n",
       "115    all-purpose flour   4632"
      ]
     },
     "execution_count": 10,
     "metadata": {},
     "output_type": "execute_result"
    }
   ],
   "source": [
    "df.iloc[:10]"
   ]
  },
  {
   "cell_type": "code",
   "execution_count": 11,
   "metadata": {},
   "outputs": [
    {
     "name": "stdout",
     "output_type": "stream",
     "text": [
      "There are 6714 different kinds of ingredients!\n"
     ]
    }
   ],
   "source": [
    "print('There are {} different kinds of ingredients!'.format(df.shape[0]))"
   ]
  },
  {
   "cell_type": "markdown",
   "metadata": {},
   "source": [
    "#### 1b. Visualize common ingredients"
   ]
  },
  {
   "cell_type": "markdown",
   "metadata": {},
   "source": [
    "Top 10 most common ingredients"
   ]
  },
  {
   "cell_type": "code",
   "execution_count": 24,
   "metadata": {},
   "outputs": [
    {
     "data": {
      "image/png": "[encoded data removed]",
      "text/plain": [
       "<Figure size 720x720 with 1 Axes>"
      ]
     },
     "metadata": {},
     "output_type": "display_data"
    }
   ],
   "source": [
    "sns.set(rc={'figure.figsize':(10, 10)})\n",
    "common_ax = sns.barplot(y='ingredients', x='count', data=df.head(10))\n",
    "common_fig = common_ax.get_figure()\n",
    "common_fig.savefig('figures/10-most-common-ingredients.png', bbox_inches='tight')"
   ]
  },
  {
   "cell_type": "markdown",
   "metadata": {},
   "source": [
    "Filter out most common ingredients"
   ]
  },
  {
   "cell_type": "code",
   "execution_count": 30,
   "metadata": {},
   "outputs": [],
   "source": [
    "ten_most_common_ing = df.head(10)['ingredients'].values\n",
    "\n",
    "def filter_common_ingredients(df):\n",
    "    return df[~df['ingredients'].isin(ten_most_common_ing)]"
   ]
  },
  {
   "cell_type": "markdown",
   "metadata": {},
   "source": [
    "Top 10 most common ingredients for `Italian`"
   ]
  },
  {
   "cell_type": "code",
   "execution_count": 33,
   "metadata": {},
   "outputs": [],
   "source": [
    "italian = train[train['cuisine'] == 'italian']\n",
    "italian_ing = get_ingredient_freq(italian)\n",
    "italian_ing = filter_common_ingredients(italian_ing)"
   ]
  },
  {
   "cell_type": "code",
   "execution_count": 34,
   "metadata": {},
   "outputs": [
    {
     "data": {
      "image/png": "[encoded data removed]",
      "text/plain": [
       "<Figure size 720x720 with 1 Axes>"
      ]
     },
     "metadata": {},
     "output_type": "display_data"
    }
   ],
   "source": [
    "sns.set(rc={'figure.figsize':(10, 10)})\n",
    "italian_ax = sns.barplot(y='ingredients', x='count', data=italian_ing.head(10))\n",
    "italian_fig = italian_ax.get_figure()\n",
    "italian_fig.savefig('figures/italian-most-common-ingredients.png', bbox_inches='tight')"
   ]
  },
  {
   "cell_type": "markdown",
   "metadata": {},
   "source": [
    "Top 10 most common ingredients for `Mexican`"
   ]
  },
  {
   "cell_type": "code",
   "execution_count": 35,
   "metadata": {},
   "outputs": [],
   "source": [
    "mexican = train[train['cuisine'] == 'mexican']\n",
    "mexican_ing = get_ingredient_freq(mexican)\n",
    "mexican_ing = filter_common_ingredients(mexican_ing)"
   ]
  },
  {
   "cell_type": "code",
   "execution_count": 36,
   "metadata": {},
   "outputs": [
    {
     "data": {
      "image/png": "[encoded data removed]",
      "text/plain": [
       "<Figure size 720x720 with 1 Axes>"
      ]
     },
     "metadata": {},
     "output_type": "display_data"
    }
   ],
   "source": [
    "sns.set(rc={'figure.figsize':(10, 10)})\n",
    "mexican_ax = sns.barplot(y='ingredients', x='count', data=mexican_ing.head(10))\n",
    "mexican_fig = mexican_ax.get_figure()\n",
    "mexican_fig.savefig('figures/mexican-most-common-ingredients.png', bbox_inches='tight')"
   ]
  },
  {
   "cell_type": "markdown",
   "metadata": {},
   "source": [
    "#### Helpfer function: show ingredients that contain a specific word"
   ]
  },
  {
   "cell_type": "code",
   "execution_count": 14,
   "metadata": {},
   "outputs": [],
   "source": [
    "def find_ingredients(df, word):\n",
    "    if 'ingredient' not in df.columns:\n",
    "        print('Error: Need to have an ingredients column!')\n",
    "        return\n",
    "    \n",
    "    if len(word.split()) == 1:\n",
    "        word = ' {0}|{0} '.format(word) \n",
    "    \n",
    "    return df[df['ingredient'].str.contains(word, na=False)]"
   ]
  },
  {
   "cell_type": "markdown",
   "metadata": {},
   "source": [
    "#### 2. Replacing similar ingredients"
   ]
  },
  {
   "cell_type": "code",
   "execution_count": 46,
   "metadata": {},
   "outputs": [],
   "source": [
    "import re"
   ]
  },
  {
   "cell_type": "code",
   "execution_count": 47,
   "metadata": {},
   "outputs": [],
   "source": [
    "descriptors = dict.fromkeys(['chopped ', ' chopped', 'minced ', ' minced', 'diced ', ' diced', 'fresh ', ' fresh', \n",
    "                             'toasted ', ' toasted', 'large ', ' large', 'small ', ' small', 'medium ', ' medium', \n",
    "                             'crushed ', ' crushed', 'canned ', ' canned', 'low sodium ', ' low sodium', \n",
    "                             'roasted ', ' roasted', 'salted ', ' salted', 'unsalted ', ' unsalted', \n",
    "                             'granulated ', ' granulated', 'dried ', ' dried', 'unsweetened ', ' unsweetened', \n",
    "                             'sweetened ', ' sweetened', 'lean ', ' lean', 'ground ', ' ground'], \n",
    "                            '')\n",
    "\n",
    "descriptors_pattern = re.compile('|'.join(descriptors.keys()))"
   ]
  },
  {
   "cell_type": "code",
   "execution_count": 48,
   "metadata": {},
   "outputs": [],
   "source": [
    "olive_oil = dict.fromkeys(['extra-virgin olive oil', 'olive oil flavored cooking spray', 'olive oil cooking spray',\n",
    "                           'mild olive oil', 'olive oil spray', 'pure olive oil', 'extra light olive oil', \n",
    "                           'virgin olive oil', 'garlic olive oil', 'lemon olive oil', 'basil olive oil'], \n",
    "                          'olive oil')\n",
    "\n",
    "olive_oil['vegetable oil'] = 'oil'\n",
    "olive_oil_pattern = re.compile('|'.join(olive_oil.keys()))"
   ]
  },
  {
   "cell_type": "code",
   "execution_count": 49,
   "metadata": {},
   "outputs": [],
   "source": [
    "def replace_similar_ingredients(ingredient):\n",
    "    \"\"\"This function will replace, remove, or modify the ingredients so we have a better representation of the ingredients.\"\"\"\n",
    "\n",
    "    # Removes descriptive words such as 'chopped', 'minced', 'large', 'fresh', etc.\n",
    "    ingredient = descriptors_pattern.sub(lambda m: descriptors[m.group(0)], ingredient)\n",
    "    \n",
    "    # Aggregates all olive oil variants into olive oil\n",
    "    ingredient = olive_oil_pattern.sub(lambda m: olive_oil[m.group(0)], ingredient)\n",
    "    \n",
    "    # Specific ingredient replacements\n",
    "    ingredient = ingredient.replace('hardboiled egg', 'egg') # Use hardboiled because we only retain letters\n",
    "    ingredient = ingredient.replace('garlic cloves', 'garlic')\n",
    "    \n",
    "    return ingredient"
   ]
  },
  {
   "cell_type": "code",
   "execution_count": 50,
   "metadata": {},
   "outputs": [
    {
     "name": "stdout",
     "output_type": "stream",
     "text": [
      "[nltk_data] Downloading package wordnet to\n",
      "[nltk_data]     /Users/bluebehree/nltk_data...\n",
      "[nltk_data]   Package wordnet is already up-to-date!\n"
     ]
    },
    {
     "data": {
      "text/plain": [
       "True"
      ]
     },
     "execution_count": 50,
     "metadata": {},
     "output_type": "execute_result"
    }
   ],
   "source": [
    "import nltk\n",
    "nltk.download('wordnet')"
   ]
  },
  {
   "cell_type": "code",
   "execution_count": 51,
   "metadata": {},
   "outputs": [],
   "source": [
    "from nltk.stem import WordNetLemmatizer\n",
    "wordnet_lemmatizer = WordNetLemmatizer()"
   ]
  },
  {
   "cell_type": "code",
   "execution_count": 52,
   "metadata": {},
   "outputs": [],
   "source": [
    "def clean_ingredient_list(ingredients):\n",
    "    # Removes all non-punctuation\n",
    "    letters_pattern = re.compile('[^a-zA-Z ]')\n",
    "    ingredients = [letters_pattern.sub('', ingredient) for ingredient in ingredients]\n",
    "    \n",
    "    ingredients = [ingredient.lower() for ingredient in ingredients]\n",
    "    ingredients = [replace_similar_ingredients(ingredient) for ingredient in ingredients]\n",
    "    ingredients = [wordnet_lemmatizer.lemmatize(ingredient) for ingredient in ingredients]\n",
    "    \n",
    "    return ingredients"
   ]
  },
  {
   "cell_type": "code",
   "execution_count": 98,
   "metadata": {},
   "outputs": [],
   "source": [
    "def clean_data(train, test):\n",
    "    train['set'] = 'train'\n",
    "    test['set'] = 'test'\n",
    "    \n",
    "    data = pd.concat([train, test], sort=True, ignore_index=True)\n",
    "    \n",
    "    train.drop(columns='set', inplace=True)\n",
    "    test.drop(columns='set', inplace=True)\n",
    "    \n",
    "    data['ingredients_clean'] = data['ingredients'].apply(clean_ingredient_list)\n",
    "    data['ingredients_string'] = data['ingredients_clean'].apply(lambda ingredients: ' '.join(ingredients))\n",
    "    \n",
    "    data.drop(columns=['ingredients', 'ingredients_clean'], inplace=True)\n",
    "    \n",
    "    train = data.loc[data['set']=='train'].drop(columns='set')\n",
    "    test = data.loc[data['set']=='test'].drop(columns=['set', 'cuisine'])\n",
    "\n",
    "    train.to_csv(os.path.join(DATA_SET, 'train_processed.csv'), index=False)\n",
    "    test.to_csv(os.path.join(DATA_SET, 'test_processed.csv'), index=False)"
   ]
  },
  {
   "cell_type": "code",
   "execution_count": 99,
   "metadata": {
    "scrolled": true
   },
   "outputs": [],
   "source": [
    "clean_data(train, test)"
   ]
  },
  {
   "cell_type": "markdown",
   "metadata": {},
   "source": [
    "#### 3. Convert cuisine classes using LabelEncoder"
   ]
  },
  {
   "cell_type": "markdown",
   "metadata": {},
   "source": [
    "#### 3b. Convert cuisine classes using LabelEncoder"
   ]
  },
  {
   "cell_type": "code",
   "execution_count": 100,
   "metadata": {},
   "outputs": [],
   "source": [
    "from sklearn.preprocessing import LabelEncoder"
   ]
  },
  {
   "cell_type": "code",
   "execution_count": 101,
   "metadata": {},
   "outputs": [],
   "source": [
    "data = pd.read_csv('data-set/train_processed.csv')"
   ]
  },
  {
   "cell_type": "code",
   "execution_count": 213,
   "metadata": {},
   "outputs": [
    {
     "name": "stdout",
     "output_type": "stream",
     "text": [
      "There are 20 unique cuisines.\n"
     ]
    }
   ],
   "source": [
    "number_of_cuisines = len(data['cuisine'].unique())\n",
    "print('There are {} unique cuisines.'.format(number_of_cuisines))"
   ]
  },
  {
   "cell_type": "code",
   "execution_count": 214,
   "metadata": {},
   "outputs": [],
   "source": [
    "lb = LabelEncoder()"
   ]
  },
  {
   "cell_type": "code",
   "execution_count": 215,
   "metadata": {},
   "outputs": [],
   "source": [
    "target = lb.fit_transform(data['cuisine'])"
   ]
  },
  {
   "cell_type": "code",
   "execution_count": 216,
   "metadata": {},
   "outputs": [],
   "source": [
    "import warnings\n",
    "warnings.filterwarnings(action='ignore', category=DeprecationWarning)"
   ]
  },
  {
   "cell_type": "code",
   "execution_count": 218,
   "metadata": {},
   "outputs": [],
   "source": [
    "cuisine_list = [lb.inverse_transform([i])[0] for i in range(20)]"
   ]
  },
  {
   "cell_type": "markdown",
   "metadata": {},
   "source": [
    "#### 4. Convert words to a vector using tf-idf vectorizer"
   ]
  },
  {
   "cell_type": "code",
   "execution_count": 219,
   "metadata": {},
   "outputs": [],
   "source": [
    "from sklearn.feature_extraction.text import TfidfVectorizer"
   ]
  },
  {
   "cell_type": "code",
   "execution_count": 220,
   "metadata": {},
   "outputs": [],
   "source": [
    "corpus = data['ingredients_string']"
   ]
  },
  {
   "cell_type": "code",
   "execution_count": 221,
   "metadata": {},
   "outputs": [],
   "source": [
    "tfidf = TfidfVectorizer(stop_words='english', binary=False, max_df=.6, analyzer='word', \n",
    "                        ngram_range=(1,1), sublinear_tf=False, token_pattern=r'\\w+', norm='l2')"
   ]
  },
  {
   "cell_type": "code",
   "execution_count": 222,
   "metadata": {},
   "outputs": [],
   "source": [
    "matrix = tfidf.fit_transform(data['ingredients_string'])"
   ]
  },
  {
   "cell_type": "markdown",
   "metadata": {},
   "source": [
    "#### 5. Split train and test set"
   ]
  },
  {
   "cell_type": "code",
   "execution_count": 223,
   "metadata": {},
   "outputs": [],
   "source": [
    "from sklearn.model_selection import train_test_split"
   ]
  },
  {
   "cell_type": "code",
   "execution_count": 224,
   "metadata": {},
   "outputs": [],
   "source": [
    "X_train, X_test, y_train, y_test = train_test_split(matrix, target, test_size=0.3, random_state=101)"
   ]
  },
  {
   "cell_type": "markdown",
   "metadata": {},
   "source": [
    "## Train and test model"
   ]
  },
  {
   "cell_type": "code",
   "execution_count": 225,
   "metadata": {},
   "outputs": [],
   "source": [
    "from sklearn.svm import LinearSVC\n",
    "from sklearn.naive_bayes import MultinomialNB\n",
    "from sklearn.tree import DecisionTreeClassifier\n",
    "from sklearn.ensemble import RandomForestClassifier\n",
    "from sklearn.model_selection import GridSearchCV\n",
    "import xgboost as xgb"
   ]
  },
  {
   "cell_type": "code",
   "execution_count": 226,
   "metadata": {},
   "outputs": [],
   "source": [
    "clf_svc = LinearSVC(random_state=101)\n",
    "clf_nb = MultinomialNB()\n",
    "clf_dt = DecisionTreeClassifier(random_state=101)\n",
    "clf_rfc = RandomForestClassifier()\n",
    "clf_xgb = xgb.XGBClassifier()"
   ]
  },
  {
   "cell_type": "code",
   "execution_count": 227,
   "metadata": {},
   "outputs": [],
   "source": [
    "from sklearn.metrics import classification_report\n",
    "from sklearn.metrics import confusion_matrix\n",
    "from sklearn.metrics import f1_score"
   ]
  },
  {
   "cell_type": "code",
   "execution_count": 228,
   "metadata": {},
   "outputs": [],
   "source": [
    "from timeit import default_timer as timer"
   ]
  },
  {
   "cell_type": "code",
   "execution_count": 242,
   "metadata": {},
   "outputs": [],
   "source": [
    "def train_and_test(clf, X_train, X_test, y_train, y_test):\n",
    "    start = timer()\n",
    "    clf.fit(X_train, y_train)\n",
    "    end = timer()\n",
    "    print('Training time: {0:.2f}s\\n'.format(end-start))\n",
    "    \n",
    "    print('Training score: {}'.format(clf.score(X_train, y_train)))\n",
    "    print('Testing score: {}\\n'.format(clf.score(X_test, y_test)))\n",
    "    \n",
    "    y_pred = clf.predict(X_test)\n",
    "    print(classification_report(y_test, y_pred, target_names=cuisine_list))\n",
    "    \n",
    "    return clf"
   ]
  },
  {
   "cell_type": "code",
   "execution_count": 243,
   "metadata": {},
   "outputs": [
    {
     "name": "stdout",
     "output_type": "stream",
     "text": [
      "Training and testing a Linear SVM Classifier...\n",
      "Training time: 1.84s\n",
      "\n",
      "Training score: 0.8643008512625265\n",
      "Testing score: 0.7904969412553423\n",
      "\n",
      "              precision    recall  f1-score   support\n",
      "\n",
      "   brazilian       0.81      0.59      0.68       135\n",
      "     british       0.65      0.45      0.53       246\n",
      "cajun_creole       0.73      0.70      0.72       474\n",
      "     chinese       0.79      0.86      0.83       792\n",
      "    filipino       0.74      0.57      0.65       230\n",
      "      french       0.62      0.62      0.62       784\n",
      "       greek       0.80      0.74      0.76       329\n",
      "      indian       0.88      0.90      0.89       910\n",
      "       irish       0.69      0.56      0.61       198\n",
      "     italian       0.81      0.89      0.85      2316\n",
      "    jamaican       0.83      0.76      0.79       143\n",
      "    japanese       0.85      0.70      0.77       431\n",
      "      korean       0.85      0.78      0.81       258\n",
      "     mexican       0.89      0.92      0.91      1911\n",
      "    moroccan       0.80      0.78      0.79       247\n",
      "     russian       0.57      0.43      0.49       152\n",
      " southern_us       0.74      0.80      0.77      1327\n",
      "     spanish       0.63      0.44      0.52       312\n",
      "        thai       0.78      0.78      0.78       488\n",
      "  vietnamese       0.66      0.60      0.62       250\n",
      "\n",
      "   micro avg       0.79      0.79      0.79     11933\n",
      "   macro avg       0.76      0.69      0.72     11933\n",
      "weighted avg       0.79      0.79      0.79     11933\n",
      "\n"
     ]
    }
   ],
   "source": [
    "print('Training and testing a Linear SVM Classifier...')\n",
    "clf_svc = train_and_test(clf_svc, X_train, X_test, y_train, y_test)"
   ]
  },
  {
   "cell_type": "code",
   "execution_count": 244,
   "metadata": {},
   "outputs": [
    {
     "name": "stdout",
     "output_type": "stream",
     "text": [
      "Training and testing a Naive Bayes Classifier...\n",
      "Training time: 0.03s\n",
      "\n",
      "Training score: 0.6815487949427104\n",
      "Testing score: 0.6619458644096203\n",
      "\n",
      "              precision    recall  f1-score   support\n",
      "\n",
      "   brazilian       0.95      0.16      0.27       135\n",
      "     british       1.00      0.05      0.10       246\n",
      "cajun_creole       0.77      0.48      0.59       474\n",
      "     chinese       0.58      0.91      0.71       792\n",
      "    filipino       0.96      0.10      0.17       230\n",
      "      french       0.52      0.39      0.44       784\n",
      "       greek       0.89      0.28      0.43       329\n",
      "      indian       0.76      0.90      0.82       910\n",
      "       irish       1.00      0.06      0.11       198\n",
      "     italian       0.63      0.90      0.75      2316\n",
      "    jamaican       1.00      0.12      0.21       143\n",
      "    japanese       0.93      0.53      0.67       431\n",
      "      korean       0.99      0.33      0.49       258\n",
      "     mexican       0.79      0.91      0.84      1911\n",
      "    moroccan       0.96      0.27      0.42       247\n",
      "     russian       1.00      0.01      0.03       152\n",
      " southern_us       0.50      0.78      0.61      1327\n",
      "     spanish       0.88      0.07      0.13       312\n",
      "        thai       0.71      0.74      0.72       488\n",
      "  vietnamese       0.81      0.12      0.21       250\n",
      "\n",
      "   micro avg       0.66      0.66      0.66     11933\n",
      "   macro avg       0.83      0.40      0.44     11933\n",
      "weighted avg       0.73      0.66      0.62     11933\n",
      "\n"
     ]
    }
   ],
   "source": [
    "print('Training and testing a Naive Bayes Classifier...')\n",
    "clf_nb = train_and_test(clf_nb, X_train, X_test, y_train, y_test)"
   ]
  },
  {
   "cell_type": "code",
   "execution_count": 245,
   "metadata": {},
   "outputs": [
    {
     "name": "stdout",
     "output_type": "stream",
     "text": [
      "Training and testing a Decision Tree Classifier...\n",
      "Training time: 8.41s\n",
      "\n",
      "Training score: 0.9996408174993714\n",
      "Testing score: 0.6048772312075756\n",
      "\n",
      "              precision    recall  f1-score   support\n",
      "\n",
      "   brazilian       0.38      0.41      0.39       135\n",
      "     british       0.26      0.27      0.26       246\n",
      "cajun_creole       0.52      0.54      0.53       474\n",
      "     chinese       0.65      0.65      0.65       792\n",
      "    filipino       0.42      0.37      0.39       230\n",
      "      french       0.36      0.37      0.37       784\n",
      "       greek       0.55      0.54      0.54       329\n",
      "      indian       0.75      0.74      0.74       910\n",
      "       irish       0.34      0.30      0.32       198\n",
      "     italian       0.69      0.74      0.72      2316\n",
      "    jamaican       0.61      0.51      0.56       143\n",
      "    japanese       0.57      0.54      0.55       431\n",
      "      korean       0.55      0.47      0.51       258\n",
      "     mexican       0.79      0.81      0.80      1911\n",
      "    moroccan       0.50      0.47      0.48       247\n",
      "     russian       0.20      0.14      0.16       152\n",
      " southern_us       0.54      0.55      0.54      1327\n",
      "     spanish       0.33      0.28      0.30       312\n",
      "        thai       0.60      0.60      0.60       488\n",
      "  vietnamese       0.43      0.42      0.42       250\n",
      "\n",
      "   micro avg       0.60      0.60      0.60     11933\n",
      "   macro avg       0.50      0.49      0.49     11933\n",
      "weighted avg       0.60      0.60      0.60     11933\n",
      "\n"
     ]
    }
   ],
   "source": [
    "print('Training and testing a Decision Tree Classifier...')\n",
    "clf_dt = train_and_test(clf_dt, X_train, X_test, y_train, y_test)"
   ]
  },
  {
   "cell_type": "code",
   "execution_count": 246,
   "metadata": {},
   "outputs": [
    {
     "name": "stdout",
     "output_type": "stream",
     "text": [
      "Training and testing a Random Forest Classifier\n"
     ]
    },
    {
     "name": "stderr",
     "output_type": "stream",
     "text": [
      "/Users/bluebehree/anaconda3/lib/python3.6/site-packages/sklearn/ensemble/forest.py:248: FutureWarning: The default value of n_estimators will change from 10 in version 0.20 to 100 in 0.22.\n",
      "  \"10 in version 0.20 to 100 in 0.22.\", FutureWarning)\n"
     ]
    },
    {
     "name": "stdout",
     "output_type": "stream",
     "text": [
      "Training time: 4.84s\n",
      "\n",
      "Training score: 0.9943608347401315\n",
      "Testing score: 0.6838179837425626\n",
      "\n",
      "              precision    recall  f1-score   support\n",
      "\n",
      "   brazilian       0.72      0.47      0.57       135\n",
      "     british       0.39      0.28      0.32       246\n",
      "cajun_creole       0.61      0.65      0.63       474\n",
      "     chinese       0.64      0.83      0.72       792\n",
      "    filipino       0.59      0.40      0.47       230\n",
      "      french       0.42      0.44      0.43       784\n",
      "       greek       0.68      0.55      0.61       329\n",
      "      indian       0.77      0.87      0.81       910\n",
      "       irish       0.66      0.33      0.44       198\n",
      "     italian       0.68      0.86      0.76      2316\n",
      "    jamaican       0.79      0.45      0.57       143\n",
      "    japanese       0.70      0.55      0.61       431\n",
      "      korean       0.75      0.48      0.59       258\n",
      "     mexican       0.84      0.89      0.86      1911\n",
      "    moroccan       0.78      0.47      0.59       247\n",
      "     russian       0.62      0.17      0.27       152\n",
      " southern_us       0.63      0.65      0.64      1327\n",
      "     spanish       0.68      0.23      0.34       312\n",
      "        thai       0.75      0.67      0.71       488\n",
      "  vietnamese       0.65      0.30      0.41       250\n",
      "\n",
      "   micro avg       0.68      0.68      0.68     11933\n",
      "   macro avg       0.67      0.53      0.57     11933\n",
      "weighted avg       0.68      0.68      0.67     11933\n",
      "\n"
     ]
    }
   ],
   "source": [
    "print('Training and testing a Random Forest Classifier')\n",
    "clf_rfc = train_and_test(clf_rfc, X_train, X_test, y_train, y_test)"
   ]
  },
  {
   "cell_type": "code",
   "execution_count": 247,
   "metadata": {
    "scrolled": false
   },
   "outputs": [
    {
     "name": "stdout",
     "output_type": "stream",
     "text": [
      "Training and testing a XGBoost Classifier...\n",
      "Training time: 143.23s\n",
      "\n",
      "Training score: 0.7745770626055098\n",
      "Testing score: 0.7271432162909578\n",
      "\n",
      "              precision    recall  f1-score   support\n",
      "\n",
      "   brazilian       0.81      0.45      0.58       135\n",
      "     british       0.77      0.22      0.35       246\n",
      "cajun_creole       0.76      0.67      0.71       474\n",
      "     chinese       0.75      0.83      0.79       792\n",
      "    filipino       0.71      0.44      0.55       230\n",
      "      french       0.53      0.49      0.51       784\n",
      "       greek       0.82      0.67      0.74       329\n",
      "      indian       0.87      0.85      0.86       910\n",
      "       irish       0.77      0.43      0.55       198\n",
      "     italian       0.66      0.89      0.76      2316\n",
      "    jamaican       0.90      0.64      0.75       143\n",
      "    japanese       0.88      0.58      0.70       431\n",
      "      korean       0.86      0.67      0.75       258\n",
      "     mexican       0.86      0.89      0.87      1911\n",
      "    moroccan       0.86      0.68      0.76       247\n",
      "     russian       0.73      0.27      0.39       152\n",
      " southern_us       0.58      0.72      0.65      1327\n",
      "     spanish       0.74      0.31      0.44       312\n",
      "        thai       0.80      0.76      0.78       488\n",
      "  vietnamese       0.71      0.48      0.57       250\n",
      "\n",
      "   micro avg       0.73      0.73      0.73     11933\n",
      "   macro avg       0.77      0.60      0.65     11933\n",
      "weighted avg       0.74      0.73      0.72     11933\n",
      "\n"
     ]
    }
   ],
   "source": [
    "print('Training and testing a XGBoost Classifier...')\n",
    "clf_xgb = train_and_test(clf_xgb, X_train, X_test, y_train, y_test)"
   ]
  },
  {
   "cell_type": "markdown",
   "metadata": {},
   "source": [
    "## Optimizing Linear SVC"
   ]
  },
  {
   "cell_type": "code",
   "execution_count": 255,
   "metadata": {},
   "outputs": [],
   "source": [
    "def optimize_model(clf, X_train, y_train):\n",
    "    parameters = {'C':(1, 0.1, 0.01, 0.05, 0.5, 0.001), 'max_iter':(500, 1000, 2000, 5000, 10000)}\n",
    "\n",
    "    gs = GridSearchCV(estimator=clf, param_grid=parameters, cv=5)\n",
    "    gs.fit(X_train, y_train)\n",
    "    \n",
    "    return gs.best_estimator_"
   ]
  },
  {
   "cell_type": "code",
   "execution_count": 256,
   "metadata": {
    "scrolled": false
   },
   "outputs": [],
   "source": [
    "clf = LinearSVC(random_state=101)\n",
    "clf = optimize_model(clf, X_train, y_train)"
   ]
  },
  {
   "cell_type": "code",
   "execution_count": 257,
   "metadata": {},
   "outputs": [
    {
     "name": "stdout",
     "output_type": "stream",
     "text": [
      "Training and testing on best Linear SVM classifier...\n",
      "Training time: 1.45s\n",
      "\n",
      "Training score: 0.851118853489458\n",
      "Testing score: 0.7912511522668231\n",
      "\n",
      "              precision    recall  f1-score   support\n",
      "\n",
      "   brazilian       0.82      0.59      0.69       135\n",
      "     british       0.69      0.44      0.54       246\n",
      "cajun_creole       0.74      0.69      0.71       474\n",
      "     chinese       0.79      0.87      0.83       792\n",
      "    filipino       0.75      0.59      0.66       230\n",
      "      french       0.62      0.62      0.62       784\n",
      "       greek       0.80      0.72      0.76       329\n",
      "      indian       0.87      0.91      0.89       910\n",
      "       irish       0.70      0.56      0.62       198\n",
      "     italian       0.80      0.90      0.85      2316\n",
      "    jamaican       0.84      0.76      0.79       143\n",
      "    japanese       0.85      0.69      0.76       431\n",
      "      korean       0.86      0.76      0.80       258\n",
      "     mexican       0.89      0.93      0.91      1911\n",
      "    moroccan       0.82      0.79      0.80       247\n",
      "     russian       0.60      0.41      0.48       152\n",
      " southern_us       0.73      0.80      0.77      1327\n",
      "     spanish       0.65      0.42      0.51       312\n",
      "        thai       0.79      0.79      0.79       488\n",
      "  vietnamese       0.69      0.58      0.63       250\n",
      "\n",
      "   micro avg       0.79      0.79      0.79     11933\n",
      "   macro avg       0.76      0.69      0.72     11933\n",
      "weighted avg       0.79      0.79      0.79     11933\n",
      "\n"
     ]
    }
   ],
   "source": [
    "print('Training and testing on best Linear SVM classifier...')\n",
    "clf = train_and_test(clf, X_train, X_test, y_train, y_test)"
   ]
  }
 ],
 "metadata": {
  "kernelspec": {
   "display_name": "Python 3",
   "language": "python",
   "name": "python3"
  },
  "language_info": {
   "codemirror_mode": {
    "name": "ipython",
    "version": 3
   },
   "file_extension": ".py",
   "mimetype": "text/x-python",
   "name": "python",
   "nbconvert_exporter": "python",
   "pygments_lexer": "ipython3",
   "version": "3.6.6"
  }
 },
 "nbformat": 4,
 "nbformat_minor": 1
}
